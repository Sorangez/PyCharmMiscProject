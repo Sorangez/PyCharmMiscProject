{
 "cells": [
  {
   "cell_type": "code",
   "id": "initial_id",
   "metadata": {
    "collapsed": true,
    "ExecuteTime": {
     "end_time": "2025-04-29T21:51:13.731565Z",
     "start_time": "2025-04-29T21:51:13.727900Z"
    }
   },
   "source": [
    "import os\n",
    "import glob\n",
    "import numpy as np\n",
    "import pandas as pd\n",
    "import matplotlib.pyplot as plt\n",
    "from collections import Counter\n",
    "\n",
    "from sklearn.model_selection import train_test_split, StratifiedKFold\n",
    "from sklearn.preprocessing import LabelEncoder\n",
    "from sklearn.metrics import accuracy_score, confusion_matrix, ConfusionMatrixDisplay, classification_report\n",
    "from sklearn.utils.class_weight import compute_class_weight\n",
    "\n",
    "import tensorflow as tf\n",
    "from tensorflow.keras import layers, models\n",
    "from tensorflow.keras.preprocessing.image import load_img, img_to_array, ImageDataGenerator\n",
    "import tensorflow.keras.backend as K\n"
   ],
   "outputs": [],
   "execution_count": 23
  },
  {
   "metadata": {
    "ExecuteTime": {
     "end_time": "2025-04-29T21:51:13.750516Z",
     "start_time": "2025-04-29T21:51:13.736569Z"
    }
   },
   "cell_type": "code",
   "source": [
    "# Load your metadata CSV\n",
    "meta = pd.read_csv(\"meta_train.csv\")\n",
    "\n",
    "# Clean image_id\n",
    "meta['image_id'] = meta['image_id'].str.replace('.jpg', '', regex=False).str.lower()\n",
    "\n",
    "# Encode target\n",
    "label_encoder = LabelEncoder()\n",
    "meta['variety_encoded'] = label_encoder.fit_transform(meta['variety'])\n",
    "\n",
    "# Save for decoding\n",
    "variety_map = dict(zip(label_encoder.classes_, label_encoder.transform(label_encoder.classes_)))\n",
    "print(\"Variety label map:\", variety_map)\n",
    "\n",
    "# Compute class weights for imbalance handling\n",
    "y_data = np.array(meta['variety_encoded'])\n",
    "class_weights = compute_class_weight(class_weight='balanced', classes=np.unique(y_data), y=y_data)\n",
    "class_weights_dict = dict(enumerate(class_weights))\n",
    "\n"
   ],
   "id": "1770cacdb84aab54",
   "outputs": [
    {
     "name": "stdout",
     "output_type": "stream",
     "text": [
      "Variety label map: {'ADT45': np.int64(0), 'AndraPonni': np.int64(1), 'AtchayaPonni': np.int64(2), 'IR20': np.int64(3), 'KarnatakaPonni': np.int64(4), 'Onthanel': np.int64(5), 'Ponni': np.int64(6), 'RR': np.int64(7), 'Surya': np.int64(8), 'Zonal': np.int64(9)}\n",
      "TensorFlow version: 2.19.0\n",
      "Num GPUs Available: 0\n"
     ]
    }
   ],
   "execution_count": 24
  },
  {
   "metadata": {
    "ExecuteTime": {
     "end_time": "2025-04-29T21:51:13.865343Z",
     "start_time": "2025-04-29T21:51:13.823400Z"
    }
   },
   "cell_type": "code",
   "source": [
    "# Full path to image folder\n",
    "IMAGE_ROOT = r\"C:\\Users\\bazen\\PyCharmMiscProject\\.venv\\train_images\"\n",
    "\n",
    "# Index all image paths from subfolders\n",
    "image_index = {}\n",
    "for path in glob.glob(os.path.join(IMAGE_ROOT, \"*\", \"*.jpg\")):\n",
    "    image_id = os.path.basename(path).split('.')[0].lower()\n",
    "    image_index[image_id] = path\n"
   ],
   "id": "35bc86e11b685a4a",
   "outputs": [],
   "execution_count": 25
  },
  {
   "metadata": {
    "ExecuteTime": {
     "end_time": "2025-04-29T21:51:35.315860Z",
     "start_time": "2025-04-29T21:51:13.872805Z"
    }
   },
   "cell_type": "code",
   "source": [
    "\n",
    "IMG_SIZE = 128\n",
    "\n",
    "def load_and_process_image(img_id):\n",
    "    path = image_index.get(img_id)\n",
    "    if not path:\n",
    "        raise FileNotFoundError(f\"{img_id} not found in index!\")\n",
    "    img = load_img(path, target_size=(IMG_SIZE, IMG_SIZE))\n",
    "    return img_to_array(img) / 255.0\n",
    "\n",
    "# Load all images into arrays\n",
    "x_data = np.array([load_and_process_image(iid) for iid in meta['image_id']])\n",
    "y_data = np.array(meta['variety_encoded'])\n",
    "\n",
    "print(\"Image data shape:\", x_data.shape)\n",
    "print(\"Labels shape:\", y_data.shape)\n"
   ],
   "id": "978e8e56aee8a3a1",
   "outputs": [
    {
     "name": "stdout",
     "output_type": "stream",
     "text": [
      "Image data shape: (10407, 128, 128, 3)\n",
      "Labels shape: (10407,)\n"
     ]
    }
   ],
   "execution_count": 26
  },
  {
   "metadata": {
    "ExecuteTime": {
     "end_time": "2025-04-29T22:43:44.183698Z",
     "start_time": "2025-04-29T21:51:35.329590Z"
    }
   },
   "cell_type": "code",
   "source": [
    "# Set up 5-Fold Cross-Validation\n",
    "k = 5\n",
    "skf = StratifiedKFold(n_splits=k, shuffle=True, random_state=42)\n",
    "accuracies = []\n",
    "\n",
    "# Image generator with horizontal flip only\n",
    "datagen = ImageDataGenerator(horizontal_flip=True)\n",
    "\n",
    "for fold, (train_idx, val_idx) in enumerate(skf.split(x_data, y_data)):\n",
    "    print(f\"\\n📂 Fold {fold+1}/{k}\")\n",
    "\n",
    "    # Split data for this fold\n",
    "    x_train, x_val = x_data[train_idx], x_data[val_idx]\n",
    "    y_train, y_val = y_data[train_idx], y_data[val_idx]\n",
    "\n",
    "    # Build model for each fold\n",
    "    model = models.Sequential([\n",
    "        layers.Conv2D(32, (3,3), activation='relu', input_shape=(IMG_SIZE, IMG_SIZE, 3)),\n",
    "        layers.MaxPooling2D(2,2),\n",
    "\n",
    "        layers.Conv2D(64, (3,3), activation='relu'),\n",
    "        layers.MaxPooling2D(2,2),\n",
    "\n",
    "        layers.Flatten(),\n",
    "        layers.Dense(128, activation='relu'),\n",
    "        layers.Dense(len(variety_map), activation='softmax')\n",
    "    ])\n",
    "\n",
    "    model.compile(optimizer='adam',\n",
    "                  loss='sparse_categorical_crossentropy',\n",
    "                  metrics=['accuracy'])\n",
    "\n",
    "    # Train using augmented data\n",
    "    history = model.fit(\n",
    "        datagen.flow(x_train, y_train, batch_size=32),\n",
    "        validation_data=(x_val, y_val),\n",
    "        epochs=30,\n",
    "        verbose=1\n",
    "    )\n",
    "\n",
    "    # Evaluate\n",
    "    val_loss, val_acc = model.evaluate(x_val, y_val)\n",
    "    accuracies.append(val_acc)\n",
    "    print(f\"✅ Fold {fold+1} validation accuracy: {val_acc:.4f}\")\n"
   ],
   "id": "9d12ce6d46fddd3",
   "outputs": [
    {
     "name": "stdout",
     "output_type": "stream",
     "text": [
      "\n",
      "📂 Fold 1/5\n"
     ]
    },
    {
     "name": "stderr",
     "output_type": "stream",
     "text": [
      "C:\\Users\\bazen\\PyCharmMiscProject\\.venv\\Lib\\site-packages\\keras\\src\\layers\\convolutional\\base_conv.py:107: UserWarning: Do not pass an `input_shape`/`input_dim` argument to a layer. When using Sequential models, prefer using an `Input(shape)` object as the first layer in the model instead.\n",
      "  super().__init__(activity_regularizer=activity_regularizer, **kwargs)\n",
      "C:\\Users\\bazen\\PyCharmMiscProject\\.venv\\Lib\\site-packages\\keras\\src\\trainers\\data_adapters\\py_dataset_adapter.py:121: UserWarning: Your `PyDataset` class should call `super().__init__(**kwargs)` in its constructor. `**kwargs` can include `workers`, `use_multiprocessing`, `max_queue_size`. Do not pass these arguments to `fit()`, as they will be ignored.\n",
      "  self._warn_if_super_not_called()\n"
     ]
    },
    {
     "name": "stdout",
     "output_type": "stream",
     "text": [
      "Epoch 1/30\n",
      "\u001B[1m261/261\u001B[0m \u001B[32m━━━━━━━━━━━━━━━━━━━━\u001B[0m\u001B[37m\u001B[0m \u001B[1m21s\u001B[0m 78ms/step - accuracy: 0.6510 - loss: 1.4628 - val_accuracy: 0.7113 - val_loss: 0.9509\n",
      "Epoch 2/30\n",
      "\u001B[1m261/261\u001B[0m \u001B[32m━━━━━━━━━━━━━━━━━━━━\u001B[0m\u001B[37m\u001B[0m \u001B[1m20s\u001B[0m 77ms/step - accuracy: 0.7471 - loss: 0.7923 - val_accuracy: 0.8108 - val_loss: 0.5847\n",
      "Epoch 3/30\n",
      "\u001B[1m261/261\u001B[0m \u001B[32m━━━━━━━━━━━━━━━━━━━━\u001B[0m\u001B[37m\u001B[0m \u001B[1m20s\u001B[0m 78ms/step - accuracy: 0.8439 - loss: 0.4770 - val_accuracy: 0.8405 - val_loss: 0.4684\n",
      "Epoch 4/30\n",
      "\u001B[1m261/261\u001B[0m \u001B[32m━━━━━━━━━━━━━━━━━━━━\u001B[0m\u001B[37m\u001B[0m \u001B[1m20s\u001B[0m 77ms/step - accuracy: 0.9133 - loss: 0.2825 - val_accuracy: 0.8775 - val_loss: 0.3981\n",
      "Epoch 5/30\n",
      "\u001B[1m261/261\u001B[0m \u001B[32m━━━━━━━━━━━━━━━━━━━━\u001B[0m\u001B[37m\u001B[0m \u001B[1m20s\u001B[0m 77ms/step - accuracy: 0.9432 - loss: 0.1805 - val_accuracy: 0.8516 - val_loss: 0.4336\n",
      "Epoch 6/30\n",
      "\u001B[1m261/261\u001B[0m \u001B[32m━━━━━━━━━━━━━━━━━━━━\u001B[0m\u001B[37m\u001B[0m \u001B[1m20s\u001B[0m 77ms/step - accuracy: 0.9615 - loss: 0.1281 - val_accuracy: 0.8804 - val_loss: 0.4183\n",
      "Epoch 7/30\n",
      "\u001B[1m261/261\u001B[0m \u001B[32m━━━━━━━━━━━━━━━━━━━━\u001B[0m\u001B[37m\u001B[0m \u001B[1m20s\u001B[0m 77ms/step - accuracy: 0.9753 - loss: 0.0890 - val_accuracy: 0.8900 - val_loss: 0.4183\n",
      "Epoch 8/30\n",
      "\u001B[1m261/261\u001B[0m \u001B[32m━━━━━━━━━━━━━━━━━━━━\u001B[0m\u001B[37m\u001B[0m \u001B[1m20s\u001B[0m 77ms/step - accuracy: 0.9780 - loss: 0.0675 - val_accuracy: 0.8785 - val_loss: 0.4898\n",
      "Epoch 9/30\n",
      "\u001B[1m261/261\u001B[0m \u001B[32m━━━━━━━━━━━━━━━━━━━━\u001B[0m\u001B[37m\u001B[0m \u001B[1m20s\u001B[0m 77ms/step - accuracy: 0.9822 - loss: 0.0585 - val_accuracy: 0.9035 - val_loss: 0.4280\n",
      "Epoch 10/30\n",
      "\u001B[1m261/261\u001B[0m \u001B[32m━━━━━━━━━━━━━━━━━━━━\u001B[0m\u001B[37m\u001B[0m \u001B[1m20s\u001B[0m 77ms/step - accuracy: 0.9923 - loss: 0.0297 - val_accuracy: 0.9126 - val_loss: 0.3877\n",
      "Epoch 11/30\n",
      "\u001B[1m261/261\u001B[0m \u001B[32m━━━━━━━━━━━━━━━━━━━━\u001B[0m\u001B[37m\u001B[0m \u001B[1m20s\u001B[0m 77ms/step - accuracy: 0.9940 - loss: 0.0205 - val_accuracy: 0.9001 - val_loss: 0.5051\n",
      "Epoch 12/30\n",
      "\u001B[1m261/261\u001B[0m \u001B[32m━━━━━━━━━━━━━━━━━━━━\u001B[0m\u001B[37m\u001B[0m \u001B[1m20s\u001B[0m 77ms/step - accuracy: 0.9915 - loss: 0.0303 - val_accuracy: 0.8833 - val_loss: 0.4821\n",
      "Epoch 13/30\n",
      "\u001B[1m261/261\u001B[0m \u001B[32m━━━━━━━━━━━━━━━━━━━━\u001B[0m\u001B[37m\u001B[0m \u001B[1m20s\u001B[0m 77ms/step - accuracy: 0.9895 - loss: 0.0343 - val_accuracy: 0.9083 - val_loss: 0.4714\n",
      "Epoch 14/30\n",
      "\u001B[1m261/261\u001B[0m \u001B[32m━━━━━━━━━━━━━━━━━━━━\u001B[0m\u001B[37m\u001B[0m \u001B[1m20s\u001B[0m 77ms/step - accuracy: 0.9976 - loss: 0.0078 - val_accuracy: 0.8919 - val_loss: 0.6607\n",
      "Epoch 15/30\n",
      "\u001B[1m261/261\u001B[0m \u001B[32m━━━━━━━━━━━━━━━━━━━━\u001B[0m\u001B[37m\u001B[0m \u001B[1m20s\u001B[0m 78ms/step - accuracy: 0.9923 - loss: 0.0269 - val_accuracy: 0.8809 - val_loss: 0.5194\n",
      "Epoch 16/30\n",
      "\u001B[1m261/261\u001B[0m \u001B[32m━━━━━━━━━━━━━━━━━━━━\u001B[0m\u001B[37m\u001B[0m \u001B[1m21s\u001B[0m 80ms/step - accuracy: 0.9901 - loss: 0.0346 - val_accuracy: 0.8972 - val_loss: 0.5404\n",
      "Epoch 17/30\n",
      "\u001B[1m261/261\u001B[0m \u001B[32m━━━━━━━━━━━━━━━━━━━━\u001B[0m\u001B[37m\u001B[0m \u001B[1m20s\u001B[0m 78ms/step - accuracy: 0.9978 - loss: 0.0097 - val_accuracy: 0.9030 - val_loss: 0.6210\n",
      "Epoch 18/30\n",
      "\u001B[1m261/261\u001B[0m \u001B[32m━━━━━━━━━━━━━━━━━━━━\u001B[0m\u001B[37m\u001B[0m \u001B[1m20s\u001B[0m 77ms/step - accuracy: 0.9993 - loss: 0.0040 - val_accuracy: 0.8790 - val_loss: 0.6383\n",
      "Epoch 19/30\n",
      "\u001B[1m261/261\u001B[0m \u001B[32m━━━━━━━━━━━━━━━━━━━━\u001B[0m\u001B[37m\u001B[0m \u001B[1m20s\u001B[0m 77ms/step - accuracy: 0.9944 - loss: 0.0163 - val_accuracy: 0.9059 - val_loss: 0.6110\n",
      "Epoch 20/30\n",
      "\u001B[1m261/261\u001B[0m \u001B[32m━━━━━━━━━━━━━━━━━━━━\u001B[0m\u001B[37m\u001B[0m \u001B[1m20s\u001B[0m 77ms/step - accuracy: 0.9990 - loss: 0.0041 - val_accuracy: 0.8915 - val_loss: 0.6874\n",
      "Epoch 21/30\n",
      "\u001B[1m261/261\u001B[0m \u001B[32m━━━━━━━━━━━━━━━━━━━━\u001B[0m\u001B[37m\u001B[0m \u001B[1m20s\u001B[0m 77ms/step - accuracy: 0.9976 - loss: 0.0084 - val_accuracy: 0.8823 - val_loss: 0.7971\n",
      "Epoch 22/30\n",
      "\u001B[1m261/261\u001B[0m \u001B[32m━━━━━━━━━━━━━━━━━━━━\u001B[0m\u001B[37m\u001B[0m \u001B[1m20s\u001B[0m 77ms/step - accuracy: 0.9884 - loss: 0.0376 - val_accuracy: 0.8905 - val_loss: 0.7379\n",
      "Epoch 23/30\n",
      "\u001B[1m261/261\u001B[0m \u001B[32m━━━━━━━━━━━━━━━━━━━━\u001B[0m\u001B[37m\u001B[0m \u001B[1m20s\u001B[0m 77ms/step - accuracy: 0.9932 - loss: 0.0218 - val_accuracy: 0.8804 - val_loss: 0.7301\n",
      "Epoch 24/30\n",
      "\u001B[1m261/261\u001B[0m \u001B[32m━━━━━━━━━━━━━━━━━━━━\u001B[0m\u001B[37m\u001B[0m \u001B[1m20s\u001B[0m 77ms/step - accuracy: 0.9910 - loss: 0.0332 - val_accuracy: 0.8905 - val_loss: 0.6803\n",
      "Epoch 25/30\n",
      "\u001B[1m261/261\u001B[0m \u001B[32m━━━━━━━━━━━━━━━━━━━━\u001B[0m\u001B[37m\u001B[0m \u001B[1m20s\u001B[0m 77ms/step - accuracy: 0.9958 - loss: 0.0153 - val_accuracy: 0.9087 - val_loss: 0.6416\n",
      "Epoch 26/30\n",
      "\u001B[1m261/261\u001B[0m \u001B[32m━━━━━━━━━━━━━━━━━━━━\u001B[0m\u001B[37m\u001B[0m \u001B[1m20s\u001B[0m 77ms/step - accuracy: 0.9990 - loss: 0.0052 - val_accuracy: 0.9126 - val_loss: 0.5965\n",
      "Epoch 27/30\n",
      "\u001B[1m261/261\u001B[0m \u001B[32m━━━━━━━━━━━━━━━━━━━━\u001B[0m\u001B[37m\u001B[0m \u001B[1m20s\u001B[0m 77ms/step - accuracy: 0.9995 - loss: 0.0020 - val_accuracy: 0.8886 - val_loss: 0.7590\n",
      "Epoch 28/30\n",
      "\u001B[1m261/261\u001B[0m \u001B[32m━━━━━━━━━━━━━━━━━━━━\u001B[0m\u001B[37m\u001B[0m \u001B[1m20s\u001B[0m 77ms/step - accuracy: 0.9915 - loss: 0.0251 - val_accuracy: 0.8934 - val_loss: 0.7668\n",
      "Epoch 29/30\n",
      "\u001B[1m261/261\u001B[0m \u001B[32m━━━━━━━━━━━━━━━━━━━━\u001B[0m\u001B[37m\u001B[0m \u001B[1m20s\u001B[0m 77ms/step - accuracy: 0.9964 - loss: 0.0165 - val_accuracy: 0.8953 - val_loss: 0.7507\n",
      "Epoch 30/30\n",
      "\u001B[1m261/261\u001B[0m \u001B[32m━━━━━━━━━━━━━━━━━━━━\u001B[0m\u001B[37m\u001B[0m \u001B[1m20s\u001B[0m 77ms/step - accuracy: 0.9965 - loss: 0.0076 - val_accuracy: 0.9049 - val_loss: 0.6580\n",
      "\u001B[1m66/66\u001B[0m \u001B[32m━━━━━━━━━━━━━━━━━━━━\u001B[0m\u001B[37m\u001B[0m \u001B[1m1s\u001B[0m 15ms/step - accuracy: 0.9074 - loss: 0.6806\n",
      "✅ Fold 1 validation accuracy: 0.9049\n",
      "\n",
      "📂 Fold 2/5\n",
      "Epoch 1/30\n",
      "\u001B[1m261/261\u001B[0m \u001B[32m━━━━━━━━━━━━━━━━━━━━\u001B[0m\u001B[37m\u001B[0m \u001B[1m21s\u001B[0m 79ms/step - accuracy: 0.6597 - loss: 1.3583 - val_accuracy: 0.7099 - val_loss: 0.9224\n",
      "Epoch 2/30\n",
      "\u001B[1m261/261\u001B[0m \u001B[32m━━━━━━━━━━━━━━━━━━━━\u001B[0m\u001B[37m\u001B[0m \u001B[1m20s\u001B[0m 78ms/step - accuracy: 0.7404 - loss: 0.8018 - val_accuracy: 0.7771 - val_loss: 0.6741\n",
      "Epoch 3/30\n",
      "\u001B[1m261/261\u001B[0m \u001B[32m━━━━━━━━━━━━━━━━━━━━\u001B[0m\u001B[37m\u001B[0m \u001B[1m20s\u001B[0m 78ms/step - accuracy: 0.8447 - loss: 0.4873 - val_accuracy: 0.8386 - val_loss: 0.4873\n",
      "Epoch 4/30\n",
      "\u001B[1m261/261\u001B[0m \u001B[32m━━━━━━━━━━━━━━━━━━━━\u001B[0m\u001B[37m\u001B[0m \u001B[1m20s\u001B[0m 78ms/step - accuracy: 0.9047 - loss: 0.3067 - val_accuracy: 0.8554 - val_loss: 0.4302\n",
      "Epoch 5/30\n",
      "\u001B[1m261/261\u001B[0m \u001B[32m━━━━━━━━━━━━━━━━━━━━\u001B[0m\u001B[37m\u001B[0m \u001B[1m20s\u001B[0m 78ms/step - accuracy: 0.9407 - loss: 0.1837 - val_accuracy: 0.8583 - val_loss: 0.4300\n",
      "Epoch 6/30\n",
      "\u001B[1m261/261\u001B[0m \u001B[32m━━━━━━━━━━━━━━━━━━━━\u001B[0m\u001B[37m\u001B[0m \u001B[1m20s\u001B[0m 78ms/step - accuracy: 0.9569 - loss: 0.1386 - val_accuracy: 0.8718 - val_loss: 0.4065\n",
      "Epoch 7/30\n",
      "\u001B[1m261/261\u001B[0m \u001B[32m━━━━━━━━━━━━━━━━━━━━\u001B[0m\u001B[37m\u001B[0m \u001B[1m20s\u001B[0m 78ms/step - accuracy: 0.9739 - loss: 0.0891 - val_accuracy: 0.8939 - val_loss: 0.3733\n",
      "Epoch 8/30\n",
      "\u001B[1m261/261\u001B[0m \u001B[32m━━━━━━━━━━━━━━━━━━━━\u001B[0m\u001B[37m\u001B[0m \u001B[1m20s\u001B[0m 78ms/step - accuracy: 0.9770 - loss: 0.0753 - val_accuracy: 0.8857 - val_loss: 0.4161\n",
      "Epoch 9/30\n",
      "\u001B[1m261/261\u001B[0m \u001B[32m━━━━━━━━━━━━━━━━━━━━\u001B[0m\u001B[37m\u001B[0m \u001B[1m20s\u001B[0m 78ms/step - accuracy: 0.9887 - loss: 0.0460 - val_accuracy: 0.9015 - val_loss: 0.3835\n",
      "Epoch 10/30\n",
      "\u001B[1m261/261\u001B[0m \u001B[32m━━━━━━━━━━━━━━━━━━━━\u001B[0m\u001B[37m\u001B[0m \u001B[1m20s\u001B[0m 78ms/step - accuracy: 0.9874 - loss: 0.0447 - val_accuracy: 0.9059 - val_loss: 0.3697\n",
      "Epoch 11/30\n",
      "\u001B[1m261/261\u001B[0m \u001B[32m━━━━━━━━━━━━━━━━━━━━\u001B[0m\u001B[37m\u001B[0m \u001B[1m20s\u001B[0m 78ms/step - accuracy: 0.9930 - loss: 0.0327 - val_accuracy: 0.9059 - val_loss: 0.3790\n",
      "Epoch 12/30\n",
      "\u001B[1m261/261\u001B[0m \u001B[32m━━━━━━━━━━━━━━━━━━━━\u001B[0m\u001B[37m\u001B[0m \u001B[1m21s\u001B[0m 80ms/step - accuracy: 0.9921 - loss: 0.0298 - val_accuracy: 0.8996 - val_loss: 0.4504\n",
      "Epoch 13/30\n",
      "\u001B[1m261/261\u001B[0m \u001B[32m━━━━━━━━━━━━━━━━━━━━\u001B[0m\u001B[37m\u001B[0m \u001B[1m20s\u001B[0m 78ms/step - accuracy: 0.9947 - loss: 0.0212 - val_accuracy: 0.9054 - val_loss: 0.3805\n",
      "Epoch 14/30\n",
      "\u001B[1m261/261\u001B[0m \u001B[32m━━━━━━━━━━━━━━━━━━━━\u001B[0m\u001B[37m\u001B[0m \u001B[1m20s\u001B[0m 78ms/step - accuracy: 0.9945 - loss: 0.0175 - val_accuracy: 0.9054 - val_loss: 0.3771\n",
      "Epoch 15/30\n",
      "\u001B[1m261/261\u001B[0m \u001B[32m━━━━━━━━━━━━━━━━━━━━\u001B[0m\u001B[37m\u001B[0m \u001B[1m21s\u001B[0m 80ms/step - accuracy: 0.9959 - loss: 0.0147 - val_accuracy: 0.9035 - val_loss: 0.4240\n",
      "Epoch 16/30\n",
      "\u001B[1m261/261\u001B[0m \u001B[32m━━━━━━━━━━━━━━━━━━━━\u001B[0m\u001B[37m\u001B[0m \u001B[1m21s\u001B[0m 79ms/step - accuracy: 0.9857 - loss: 0.0403 - val_accuracy: 0.9049 - val_loss: 0.4173\n",
      "Epoch 17/30\n",
      "\u001B[1m261/261\u001B[0m \u001B[32m━━━━━━━━━━━━━━━━━━━━\u001B[0m\u001B[37m\u001B[0m \u001B[1m21s\u001B[0m 79ms/step - accuracy: 0.9948 - loss: 0.0211 - val_accuracy: 0.8929 - val_loss: 0.5025\n",
      "Epoch 18/30\n",
      "\u001B[1m261/261\u001B[0m \u001B[32m━━━━━━━━━━━━━━━━━━━━\u001B[0m\u001B[37m\u001B[0m \u001B[1m21s\u001B[0m 79ms/step - accuracy: 0.9971 - loss: 0.0150 - val_accuracy: 0.9145 - val_loss: 0.4778\n",
      "Epoch 19/30\n",
      "\u001B[1m261/261\u001B[0m \u001B[32m━━━━━━━━━━━━━━━━━━━━\u001B[0m\u001B[37m\u001B[0m \u001B[1m21s\u001B[0m 79ms/step - accuracy: 0.9970 - loss: 0.0099 - val_accuracy: 0.8895 - val_loss: 0.5529\n",
      "Epoch 20/30\n",
      "\u001B[1m261/261\u001B[0m \u001B[32m━━━━━━━━━━━━━━━━━━━━\u001B[0m\u001B[37m\u001B[0m \u001B[1m21s\u001B[0m 79ms/step - accuracy: 0.9909 - loss: 0.0258 - val_accuracy: 0.9059 - val_loss: 0.5100\n",
      "Epoch 21/30\n",
      "\u001B[1m261/261\u001B[0m \u001B[32m━━━━━━━━━━━━━━━━━━━━\u001B[0m\u001B[37m\u001B[0m \u001B[1m21s\u001B[0m 79ms/step - accuracy: 0.9953 - loss: 0.0286 - val_accuracy: 0.9030 - val_loss: 0.5582\n",
      "Epoch 22/30\n",
      "\u001B[1m261/261\u001B[0m \u001B[32m━━━━━━━━━━━━━━━━━━━━\u001B[0m\u001B[37m\u001B[0m \u001B[1m21s\u001B[0m 79ms/step - accuracy: 0.9967 - loss: 0.0133 - val_accuracy: 0.9006 - val_loss: 0.6600\n",
      "Epoch 23/30\n",
      "\u001B[1m261/261\u001B[0m \u001B[32m━━━━━━━━━━━━━━━━━━━━\u001B[0m\u001B[37m\u001B[0m \u001B[1m21s\u001B[0m 79ms/step - accuracy: 0.9912 - loss: 0.0282 - val_accuracy: 0.9107 - val_loss: 0.4973\n",
      "Epoch 24/30\n",
      "\u001B[1m261/261\u001B[0m \u001B[32m━━━━━━━━━━━━━━━━━━━━\u001B[0m\u001B[37m\u001B[0m \u001B[1m21s\u001B[0m 79ms/step - accuracy: 0.9862 - loss: 0.0376 - val_accuracy: 0.9049 - val_loss: 0.6009\n",
      "Epoch 25/30\n",
      "\u001B[1m261/261\u001B[0m \u001B[32m━━━━━━━━━━━━━━━━━━━━\u001B[0m\u001B[37m\u001B[0m \u001B[1m21s\u001B[0m 79ms/step - accuracy: 0.9943 - loss: 0.0156 - val_accuracy: 0.9020 - val_loss: 0.6011\n",
      "Epoch 26/30\n",
      "\u001B[1m261/261\u001B[0m \u001B[32m━━━━━━━━━━━━━━━━━━━━\u001B[0m\u001B[37m\u001B[0m \u001B[1m21s\u001B[0m 79ms/step - accuracy: 0.9988 - loss: 0.0046 - val_accuracy: 0.9044 - val_loss: 0.5515\n",
      "Epoch 27/30\n",
      "\u001B[1m261/261\u001B[0m \u001B[32m━━━━━━━━━━━━━━━━━━━━\u001B[0m\u001B[37m\u001B[0m \u001B[1m21s\u001B[0m 79ms/step - accuracy: 0.9976 - loss: 0.0125 - val_accuracy: 0.8977 - val_loss: 0.7153\n",
      "Epoch 28/30\n",
      "\u001B[1m261/261\u001B[0m \u001B[32m━━━━━━━━━━━━━━━━━━━━\u001B[0m\u001B[37m\u001B[0m \u001B[1m21s\u001B[0m 79ms/step - accuracy: 0.9988 - loss: 0.0071 - val_accuracy: 0.9001 - val_loss: 0.6058\n",
      "Epoch 29/30\n",
      "\u001B[1m261/261\u001B[0m \u001B[32m━━━━━━━━━━━━━━━━━━━━\u001B[0m\u001B[37m\u001B[0m \u001B[1m21s\u001B[0m 80ms/step - accuracy: 0.9997 - loss: 0.0017 - val_accuracy: 0.9159 - val_loss: 0.5521\n",
      "Epoch 30/30\n",
      "\u001B[1m261/261\u001B[0m \u001B[32m━━━━━━━━━━━━━━━━━━━━\u001B[0m\u001B[37m\u001B[0m \u001B[1m21s\u001B[0m 80ms/step - accuracy: 1.0000 - loss: 1.4515e-04 - val_accuracy: 0.9207 - val_loss: 0.5780\n",
      "\u001B[1m66/66\u001B[0m \u001B[32m━━━━━━━━━━━━━━━━━━━━\u001B[0m\u001B[37m\u001B[0m \u001B[1m1s\u001B[0m 17ms/step - accuracy: 0.9258 - loss: 0.6340\n",
      "✅ Fold 2 validation accuracy: 0.9207\n",
      "\n",
      "📂 Fold 3/5\n",
      "Epoch 1/30\n",
      "\u001B[1m261/261\u001B[0m \u001B[32m━━━━━━━━━━━━━━━━━━━━\u001B[0m\u001B[37m\u001B[0m \u001B[1m22s\u001B[0m 82ms/step - accuracy: 0.6424 - loss: 1.3256 - val_accuracy: 0.7232 - val_loss: 0.8885\n",
      "Epoch 2/30\n",
      "\u001B[1m261/261\u001B[0m \u001B[32m━━━━━━━━━━━━━━━━━━━━\u001B[0m\u001B[37m\u001B[0m \u001B[1m21s\u001B[0m 81ms/step - accuracy: 0.7543 - loss: 0.7488 - val_accuracy: 0.8011 - val_loss: 0.6035\n",
      "Epoch 3/30\n",
      "\u001B[1m261/261\u001B[0m \u001B[32m━━━━━━━━━━━━━━━━━━━━\u001B[0m\u001B[37m\u001B[0m \u001B[1m21s\u001B[0m 81ms/step - accuracy: 0.8439 - loss: 0.4773 - val_accuracy: 0.8400 - val_loss: 0.4554\n",
      "Epoch 4/30\n",
      "\u001B[1m261/261\u001B[0m \u001B[32m━━━━━━━━━━━━━━━━━━━━\u001B[0m\u001B[37m\u001B[0m \u001B[1m21s\u001B[0m 80ms/step - accuracy: 0.9141 - loss: 0.2779 - val_accuracy: 0.8823 - val_loss: 0.3543\n",
      "Epoch 5/30\n",
      "\u001B[1m261/261\u001B[0m \u001B[32m━━━━━━━━━━━━━━━━━━━━\u001B[0m\u001B[37m\u001B[0m \u001B[1m20s\u001B[0m 78ms/step - accuracy: 0.9434 - loss: 0.1838 - val_accuracy: 0.9087 - val_loss: 0.3018\n",
      "Epoch 6/30\n",
      "\u001B[1m261/261\u001B[0m \u001B[32m━━━━━━━━━━━━━━━━━━━━\u001B[0m\u001B[37m\u001B[0m \u001B[1m20s\u001B[0m 78ms/step - accuracy: 0.9681 - loss: 0.0980 - val_accuracy: 0.9005 - val_loss: 0.3490\n",
      "Epoch 7/30\n",
      "\u001B[1m261/261\u001B[0m \u001B[32m━━━━━━━━━━━━━━━━━━━━\u001B[0m\u001B[37m\u001B[0m \u001B[1m21s\u001B[0m 79ms/step - accuracy: 0.9804 - loss: 0.0653 - val_accuracy: 0.9111 - val_loss: 0.3131\n",
      "Epoch 8/30\n",
      "\u001B[1m261/261\u001B[0m \u001B[32m━━━━━━━━━━━━━━━━━━━━\u001B[0m\u001B[37m\u001B[0m \u001B[1m20s\u001B[0m 78ms/step - accuracy: 0.9817 - loss: 0.0624 - val_accuracy: 0.9178 - val_loss: 0.3079\n",
      "Epoch 9/30\n",
      "\u001B[1m261/261\u001B[0m \u001B[32m━━━━━━━━━━━━━━━━━━━━\u001B[0m\u001B[37m\u001B[0m \u001B[1m20s\u001B[0m 78ms/step - accuracy: 0.9894 - loss: 0.0422 - val_accuracy: 0.9154 - val_loss: 0.3420\n",
      "Epoch 10/30\n",
      "\u001B[1m261/261\u001B[0m \u001B[32m━━━━━━━━━━━━━━━━━━━━\u001B[0m\u001B[37m\u001B[0m \u001B[1m20s\u001B[0m 78ms/step - accuracy: 0.9929 - loss: 0.0301 - val_accuracy: 0.9034 - val_loss: 0.4147\n",
      "Epoch 11/30\n",
      "\u001B[1m261/261\u001B[0m \u001B[32m━━━━━━━━━━━━━━━━━━━━\u001B[0m\u001B[37m\u001B[0m \u001B[1m20s\u001B[0m 78ms/step - accuracy: 0.9941 - loss: 0.0215 - val_accuracy: 0.9207 - val_loss: 0.3976\n",
      "Epoch 12/30\n",
      "\u001B[1m261/261\u001B[0m \u001B[32m━━━━━━━━━━━━━━━━━━━━\u001B[0m\u001B[37m\u001B[0m \u001B[1m21s\u001B[0m 80ms/step - accuracy: 0.9930 - loss: 0.0231 - val_accuracy: 0.8347 - val_loss: 0.7965\n",
      "Epoch 13/30\n",
      "\u001B[1m261/261\u001B[0m \u001B[32m━━━━━━━━━━━━━━━━━━━━\u001B[0m\u001B[37m\u001B[0m \u001B[1m21s\u001B[0m 79ms/step - accuracy: 0.9822 - loss: 0.0540 - val_accuracy: 0.9188 - val_loss: 0.3815\n",
      "Epoch 14/30\n",
      "\u001B[1m261/261\u001B[0m \u001B[32m━━━━━━━━━━━━━━━━━━━━\u001B[0m\u001B[37m\u001B[0m \u001B[1m21s\u001B[0m 79ms/step - accuracy: 0.9954 - loss: 0.0158 - val_accuracy: 0.9053 - val_loss: 0.4413\n",
      "Epoch 15/30\n",
      "\u001B[1m261/261\u001B[0m \u001B[32m━━━━━━━━━━━━━━━━━━━━\u001B[0m\u001B[37m\u001B[0m \u001B[1m21s\u001B[0m 79ms/step - accuracy: 0.9911 - loss: 0.0309 - val_accuracy: 0.9053 - val_loss: 0.4002\n",
      "Epoch 16/30\n",
      "\u001B[1m261/261\u001B[0m \u001B[32m━━━━━━━━━━━━━━━━━━━━\u001B[0m\u001B[37m\u001B[0m \u001B[1m21s\u001B[0m 79ms/step - accuracy: 0.9949 - loss: 0.0193 - val_accuracy: 0.9231 - val_loss: 0.3790\n",
      "Epoch 17/30\n",
      "\u001B[1m261/261\u001B[0m \u001B[32m━━━━━━━━━━━━━━━━━━━━\u001B[0m\u001B[37m\u001B[0m \u001B[1m21s\u001B[0m 79ms/step - accuracy: 0.9934 - loss: 0.0202 - val_accuracy: 0.9231 - val_loss: 0.4049\n",
      "Epoch 18/30\n",
      "\u001B[1m261/261\u001B[0m \u001B[32m━━━━━━━━━━━━━━━━━━━━\u001B[0m\u001B[37m\u001B[0m \u001B[1m21s\u001B[0m 79ms/step - accuracy: 0.9975 - loss: 0.0074 - val_accuracy: 0.9270 - val_loss: 0.4293\n",
      "Epoch 19/30\n",
      "\u001B[1m261/261\u001B[0m \u001B[32m━━━━━━━━━━━━━━━━━━━━\u001B[0m\u001B[37m\u001B[0m \u001B[1m21s\u001B[0m 79ms/step - accuracy: 0.9911 - loss: 0.0241 - val_accuracy: 0.9044 - val_loss: 0.4708\n",
      "Epoch 20/30\n",
      "\u001B[1m261/261\u001B[0m \u001B[32m━━━━━━━━━━━━━━━━━━━━\u001B[0m\u001B[37m\u001B[0m \u001B[1m21s\u001B[0m 79ms/step - accuracy: 0.9905 - loss: 0.0345 - val_accuracy: 0.9212 - val_loss: 0.3911\n",
      "Epoch 21/30\n",
      "\u001B[1m261/261\u001B[0m \u001B[32m━━━━━━━━━━━━━━━━━━━━\u001B[0m\u001B[37m\u001B[0m \u001B[1m21s\u001B[0m 79ms/step - accuracy: 0.9973 - loss: 0.0144 - val_accuracy: 0.9125 - val_loss: 0.5019\n",
      "Epoch 22/30\n",
      "\u001B[1m261/261\u001B[0m \u001B[32m━━━━━━━━━━━━━━━━━━━━\u001B[0m\u001B[37m\u001B[0m \u001B[1m21s\u001B[0m 79ms/step - accuracy: 0.9961 - loss: 0.0146 - val_accuracy: 0.9178 - val_loss: 0.5338\n",
      "Epoch 23/30\n",
      "\u001B[1m261/261\u001B[0m \u001B[32m━━━━━━━━━━━━━━━━━━━━\u001B[0m\u001B[37m\u001B[0m \u001B[1m21s\u001B[0m 79ms/step - accuracy: 0.9976 - loss: 0.0088 - val_accuracy: 0.8938 - val_loss: 0.5723\n",
      "Epoch 24/30\n",
      "\u001B[1m261/261\u001B[0m \u001B[32m━━━━━━━━━━━━━━━━━━━━\u001B[0m\u001B[37m\u001B[0m \u001B[1m21s\u001B[0m 79ms/step - accuracy: 0.9909 - loss: 0.0311 - val_accuracy: 0.9173 - val_loss: 0.4685\n",
      "Epoch 25/30\n",
      "\u001B[1m261/261\u001B[0m \u001B[32m━━━━━━━━━━━━━━━━━━━━\u001B[0m\u001B[37m\u001B[0m \u001B[1m21s\u001B[0m 79ms/step - accuracy: 0.9974 - loss: 0.0097 - val_accuracy: 0.9010 - val_loss: 0.5732\n",
      "Epoch 26/30\n",
      "\u001B[1m261/261\u001B[0m \u001B[32m━━━━━━━━━━━━━━━━━━━━\u001B[0m\u001B[37m\u001B[0m \u001B[1m21s\u001B[0m 79ms/step - accuracy: 0.9964 - loss: 0.0109 - val_accuracy: 0.9111 - val_loss: 0.5042\n",
      "Epoch 27/30\n",
      "\u001B[1m261/261\u001B[0m \u001B[32m━━━━━━━━━━━━━━━━━━━━\u001B[0m\u001B[37m\u001B[0m \u001B[1m21s\u001B[0m 80ms/step - accuracy: 0.9973 - loss: 0.0116 - val_accuracy: 0.9255 - val_loss: 0.5011\n",
      "Epoch 28/30\n",
      "\u001B[1m261/261\u001B[0m \u001B[32m━━━━━━━━━━━━━━━━━━━━\u001B[0m\u001B[37m\u001B[0m \u001B[1m21s\u001B[0m 79ms/step - accuracy: 0.9991 - loss: 0.0023 - val_accuracy: 0.9164 - val_loss: 0.5274\n",
      "Epoch 29/30\n",
      "\u001B[1m261/261\u001B[0m \u001B[32m━━━━━━━━━━━━━━━━━━━━\u001B[0m\u001B[37m\u001B[0m \u001B[1m21s\u001B[0m 79ms/step - accuracy: 0.9852 - loss: 0.0495 - val_accuracy: 0.9154 - val_loss: 0.4898\n",
      "Epoch 30/30\n",
      "\u001B[1m261/261\u001B[0m \u001B[32m━━━━━━━━━━━━━━━━━━━━\u001B[0m\u001B[37m\u001B[0m \u001B[1m21s\u001B[0m 79ms/step - accuracy: 0.9923 - loss: 0.0249 - val_accuracy: 0.9125 - val_loss: 0.5470\n",
      "\u001B[1m66/66\u001B[0m \u001B[32m━━━━━━━━━━━━━━━━━━━━\u001B[0m\u001B[37m\u001B[0m \u001B[1m1s\u001B[0m 16ms/step - accuracy: 0.9158 - loss: 0.4982\n",
      "✅ Fold 3 validation accuracy: 0.9125\n",
      "\n",
      "📂 Fold 4/5\n",
      "Epoch 1/30\n",
      "\u001B[1m261/261\u001B[0m \u001B[32m━━━━━━━━━━━━━━━━━━━━\u001B[0m\u001B[37m\u001B[0m \u001B[1m22s\u001B[0m 81ms/step - accuracy: 0.6585 - loss: 1.3241 - val_accuracy: 0.7251 - val_loss: 0.8583\n",
      "Epoch 2/30\n",
      "\u001B[1m261/261\u001B[0m \u001B[32m━━━━━━━━━━━━━━━━━━━━\u001B[0m\u001B[37m\u001B[0m \u001B[1m21s\u001B[0m 79ms/step - accuracy: 0.7356 - loss: 0.8325 - val_accuracy: 0.7780 - val_loss: 0.6624\n",
      "Epoch 3/30\n",
      "\u001B[1m261/261\u001B[0m \u001B[32m━━━━━━━━━━━━━━━━━━━━\u001B[0m\u001B[37m\u001B[0m \u001B[1m21s\u001B[0m 79ms/step - accuracy: 0.8294 - loss: 0.5264 - val_accuracy: 0.8611 - val_loss: 0.4887\n",
      "Epoch 4/30\n",
      "\u001B[1m261/261\u001B[0m \u001B[32m━━━━━━━━━━━━━━━━━━━━\u001B[0m\u001B[37m\u001B[0m \u001B[1m21s\u001B[0m 79ms/step - accuracy: 0.8908 - loss: 0.3527 - val_accuracy: 0.8462 - val_loss: 0.5141\n",
      "Epoch 5/30\n",
      "\u001B[1m261/261\u001B[0m \u001B[32m━━━━━━━━━━━━━━━━━━━━\u001B[0m\u001B[37m\u001B[0m \u001B[1m21s\u001B[0m 79ms/step - accuracy: 0.9341 - loss: 0.2083 - val_accuracy: 0.8770 - val_loss: 0.4244\n",
      "Epoch 6/30\n",
      "\u001B[1m261/261\u001B[0m \u001B[32m━━━━━━━━━━━━━━━━━━━━\u001B[0m\u001B[37m\u001B[0m \u001B[1m21s\u001B[0m 79ms/step - accuracy: 0.9543 - loss: 0.1422 - val_accuracy: 0.8808 - val_loss: 0.4190\n",
      "Epoch 7/30\n",
      "\u001B[1m261/261\u001B[0m \u001B[32m━━━━━━━━━━━━━━━━━━━━\u001B[0m\u001B[37m\u001B[0m \u001B[1m21s\u001B[0m 79ms/step - accuracy: 0.9789 - loss: 0.0773 - val_accuracy: 0.8770 - val_loss: 0.5088\n",
      "Epoch 8/30\n",
      "\u001B[1m261/261\u001B[0m \u001B[32m━━━━━━━━━━━━━━━━━━━━\u001B[0m\u001B[37m\u001B[0m \u001B[1m21s\u001B[0m 79ms/step - accuracy: 0.9807 - loss: 0.0654 - val_accuracy: 0.8741 - val_loss: 0.4585\n",
      "Epoch 9/30\n",
      "\u001B[1m261/261\u001B[0m \u001B[32m━━━━━━━━━━━━━━━━━━━━\u001B[0m\u001B[37m\u001B[0m \u001B[1m21s\u001B[0m 79ms/step - accuracy: 0.9815 - loss: 0.0602 - val_accuracy: 0.8861 - val_loss: 0.5644\n",
      "Epoch 10/30\n",
      "\u001B[1m261/261\u001B[0m \u001B[32m━━━━━━━━━━━━━━━━━━━━\u001B[0m\u001B[37m\u001B[0m \u001B[1m21s\u001B[0m 79ms/step - accuracy: 0.9882 - loss: 0.0375 - val_accuracy: 0.8928 - val_loss: 0.5083\n",
      "Epoch 11/30\n",
      "\u001B[1m261/261\u001B[0m \u001B[32m━━━━━━━━━━━━━━━━━━━━\u001B[0m\u001B[37m\u001B[0m \u001B[1m21s\u001B[0m 79ms/step - accuracy: 0.9880 - loss: 0.0421 - val_accuracy: 0.9063 - val_loss: 0.4762\n",
      "Epoch 12/30\n",
      "\u001B[1m261/261\u001B[0m \u001B[32m━━━━━━━━━━━━━━━━━━━━\u001B[0m\u001B[37m\u001B[0m \u001B[1m21s\u001B[0m 80ms/step - accuracy: 0.9945 - loss: 0.0223 - val_accuracy: 0.8799 - val_loss: 0.6375\n",
      "Epoch 13/30\n",
      "\u001B[1m261/261\u001B[0m \u001B[32m━━━━━━━━━━━━━━━━━━━━\u001B[0m\u001B[37m\u001B[0m \u001B[1m21s\u001B[0m 79ms/step - accuracy: 0.9935 - loss: 0.0234 - val_accuracy: 0.8972 - val_loss: 0.5339\n",
      "Epoch 14/30\n",
      "\u001B[1m261/261\u001B[0m \u001B[32m━━━━━━━━━━━━━━━━━━━━\u001B[0m\u001B[37m\u001B[0m \u001B[1m21s\u001B[0m 79ms/step - accuracy: 0.9936 - loss: 0.0280 - val_accuracy: 0.9097 - val_loss: 0.4322\n",
      "Epoch 15/30\n",
      "\u001B[1m261/261\u001B[0m \u001B[32m━━━━━━━━━━━━━━━━━━━━\u001B[0m\u001B[37m\u001B[0m \u001B[1m21s\u001B[0m 79ms/step - accuracy: 0.9939 - loss: 0.0223 - val_accuracy: 0.8746 - val_loss: 0.6223\n",
      "Epoch 16/30\n",
      "\u001B[1m261/261\u001B[0m \u001B[32m━━━━━━━━━━━━━━━━━━━━\u001B[0m\u001B[37m\u001B[0m \u001B[1m21s\u001B[0m 79ms/step - accuracy: 0.9946 - loss: 0.0168 - val_accuracy: 0.9005 - val_loss: 0.5316\n",
      "Epoch 17/30\n",
      "\u001B[1m261/261\u001B[0m \u001B[32m━━━━━━━━━━━━━━━━━━━━\u001B[0m\u001B[37m\u001B[0m \u001B[1m21s\u001B[0m 80ms/step - accuracy: 0.9888 - loss: 0.0344 - val_accuracy: 0.8981 - val_loss: 0.5420\n",
      "Epoch 18/30\n",
      "\u001B[1m261/261\u001B[0m \u001B[32m━━━━━━━━━━━━━━━━━━━━\u001B[0m\u001B[37m\u001B[0m \u001B[1m22s\u001B[0m 85ms/step - accuracy: 0.9917 - loss: 0.0275 - val_accuracy: 0.8938 - val_loss: 0.5889\n",
      "Epoch 19/30\n",
      "\u001B[1m261/261\u001B[0m \u001B[32m━━━━━━━━━━━━━━━━━━━━\u001B[0m\u001B[37m\u001B[0m \u001B[1m22s\u001B[0m 83ms/step - accuracy: 0.9976 - loss: 0.0076 - val_accuracy: 0.8976 - val_loss: 0.7116\n",
      "Epoch 20/30\n",
      "\u001B[1m261/261\u001B[0m \u001B[32m━━━━━━━━━━━━━━━━━━━━\u001B[0m\u001B[37m\u001B[0m \u001B[1m21s\u001B[0m 81ms/step - accuracy: 0.9874 - loss: 0.0395 - val_accuracy: 0.8775 - val_loss: 0.5777\n",
      "Epoch 21/30\n",
      "\u001B[1m261/261\u001B[0m \u001B[32m━━━━━━━━━━━━━━━━━━━━\u001B[0m\u001B[37m\u001B[0m \u001B[1m21s\u001B[0m 80ms/step - accuracy: 0.9891 - loss: 0.0308 - val_accuracy: 0.8775 - val_loss: 0.7655\n",
      "Epoch 22/30\n",
      "\u001B[1m261/261\u001B[0m \u001B[32m━━━━━━━━━━━━━━━━━━━━\u001B[0m\u001B[37m\u001B[0m \u001B[1m21s\u001B[0m 80ms/step - accuracy: 0.9956 - loss: 0.0175 - val_accuracy: 0.8717 - val_loss: 0.6877\n",
      "Epoch 23/30\n",
      "\u001B[1m261/261\u001B[0m \u001B[32m━━━━━━━━━━━━━━━━━━━━\u001B[0m\u001B[37m\u001B[0m \u001B[1m21s\u001B[0m 80ms/step - accuracy: 0.9953 - loss: 0.0147 - val_accuracy: 0.8957 - val_loss: 0.6924\n",
      "Epoch 24/30\n",
      "\u001B[1m261/261\u001B[0m \u001B[32m━━━━━━━━━━━━━━━━━━━━\u001B[0m\u001B[37m\u001B[0m \u001B[1m21s\u001B[0m 80ms/step - accuracy: 0.9967 - loss: 0.0106 - val_accuracy: 0.8933 - val_loss: 0.6546\n",
      "Epoch 25/30\n",
      "\u001B[1m261/261\u001B[0m \u001B[32m━━━━━━━━━━━━━━━━━━━━\u001B[0m\u001B[37m\u001B[0m \u001B[1m21s\u001B[0m 80ms/step - accuracy: 0.9945 - loss: 0.0212 - val_accuracy: 0.8996 - val_loss: 0.6352\n",
      "Epoch 26/30\n",
      "\u001B[1m261/261\u001B[0m \u001B[32m━━━━━━━━━━━━━━━━━━━━\u001B[0m\u001B[37m\u001B[0m \u001B[1m21s\u001B[0m 80ms/step - accuracy: 0.9972 - loss: 0.0080 - val_accuracy: 0.8976 - val_loss: 0.7890\n",
      "Epoch 27/30\n",
      "\u001B[1m261/261\u001B[0m \u001B[32m━━━━━━━━━━━━━━━━━━━━\u001B[0m\u001B[37m\u001B[0m \u001B[1m21s\u001B[0m 80ms/step - accuracy: 1.0000 - loss: 0.0011 - val_accuracy: 0.9140 - val_loss: 0.6600\n",
      "Epoch 28/30\n",
      "\u001B[1m261/261\u001B[0m \u001B[32m━━━━━━━━━━━━━━━━━━━━\u001B[0m\u001B[37m\u001B[0m \u001B[1m21s\u001B[0m 80ms/step - accuracy: 0.9999 - loss: 5.2936e-04 - val_accuracy: 0.9063 - val_loss: 0.7881\n",
      "Epoch 29/30\n",
      "\u001B[1m261/261\u001B[0m \u001B[32m━━━━━━━━━━━━━━━━━━━━\u001B[0m\u001B[37m\u001B[0m \u001B[1m21s\u001B[0m 80ms/step - accuracy: 0.9824 - loss: 0.0635 - val_accuracy: 0.8900 - val_loss: 0.6653\n",
      "Epoch 30/30\n",
      "\u001B[1m261/261\u001B[0m \u001B[32m━━━━━━━━━━━━━━━━━━━━\u001B[0m\u001B[37m\u001B[0m \u001B[1m21s\u001B[0m 80ms/step - accuracy: 0.9939 - loss: 0.0211 - val_accuracy: 0.8904 - val_loss: 0.7661\n",
      "\u001B[1m66/66\u001B[0m \u001B[32m━━━━━━━━━━━━━━━━━━━━\u001B[0m\u001B[37m\u001B[0m \u001B[1m1s\u001B[0m 16ms/step - accuracy: 0.9016 - loss: 0.7544\n",
      "✅ Fold 4 validation accuracy: 0.8904\n",
      "\n",
      "📂 Fold 5/5\n",
      "Epoch 1/30\n",
      "\u001B[1m261/261\u001B[0m \u001B[32m━━━━━━━━━━━━━━━━━━━━\u001B[0m\u001B[37m\u001B[0m \u001B[1m22s\u001B[0m 81ms/step - accuracy: 0.6845 - loss: 1.2917 - val_accuracy: 0.7352 - val_loss: 0.8202\n",
      "Epoch 2/30\n",
      "\u001B[1m261/261\u001B[0m \u001B[32m━━━━━━━━━━━━━━━━━━━━\u001B[0m\u001B[37m\u001B[0m \u001B[1m21s\u001B[0m 80ms/step - accuracy: 0.7740 - loss: 0.6797 - val_accuracy: 0.8318 - val_loss: 0.4870\n",
      "Epoch 3/30\n",
      "\u001B[1m261/261\u001B[0m \u001B[32m━━━━━━━━━━━━━━━━━━━━\u001B[0m\u001B[37m\u001B[0m \u001B[1m21s\u001B[0m 81ms/step - accuracy: 0.8781 - loss: 0.3752 - val_accuracy: 0.8952 - val_loss: 0.3435\n",
      "Epoch 4/30\n",
      "\u001B[1m261/261\u001B[0m \u001B[32m━━━━━━━━━━━━━━━━━━━━\u001B[0m\u001B[37m\u001B[0m \u001B[1m21s\u001B[0m 81ms/step - accuracy: 0.9300 - loss: 0.2333 - val_accuracy: 0.8799 - val_loss: 0.3884\n",
      "Epoch 5/30\n",
      "\u001B[1m261/261\u001B[0m \u001B[32m━━━━━━━━━━━━━━━━━━━━\u001B[0m\u001B[37m\u001B[0m \u001B[1m21s\u001B[0m 81ms/step - accuracy: 0.9617 - loss: 0.1360 - val_accuracy: 0.9169 - val_loss: 0.2964\n",
      "Epoch 6/30\n",
      "\u001B[1m261/261\u001B[0m \u001B[32m━━━━━━━━━━━━━━━━━━━━\u001B[0m\u001B[37m\u001B[0m \u001B[1m21s\u001B[0m 81ms/step - accuracy: 0.9794 - loss: 0.0742 - val_accuracy: 0.9169 - val_loss: 0.2888\n",
      "Epoch 7/30\n",
      "\u001B[1m261/261\u001B[0m \u001B[32m━━━━━━━━━━━━━━━━━━━━\u001B[0m\u001B[37m\u001B[0m \u001B[1m21s\u001B[0m 81ms/step - accuracy: 0.9798 - loss: 0.0660 - val_accuracy: 0.9121 - val_loss: 0.3063\n",
      "Epoch 8/30\n",
      "\u001B[1m261/261\u001B[0m \u001B[32m━━━━━━━━━━━━━━━━━━━━\u001B[0m\u001B[37m\u001B[0m \u001B[1m21s\u001B[0m 82ms/step - accuracy: 0.9791 - loss: 0.0619 - val_accuracy: 0.9087 - val_loss: 0.3630\n",
      "Epoch 9/30\n",
      "\u001B[1m261/261\u001B[0m \u001B[32m━━━━━━━━━━━━━━━━━━━━\u001B[0m\u001B[37m\u001B[0m \u001B[1m21s\u001B[0m 81ms/step - accuracy: 0.9934 - loss: 0.0245 - val_accuracy: 0.9015 - val_loss: 0.3654\n",
      "Epoch 10/30\n",
      "\u001B[1m261/261\u001B[0m \u001B[32m━━━━━━━━━━━━━━━━━━━━\u001B[0m\u001B[37m\u001B[0m \u001B[1m21s\u001B[0m 82ms/step - accuracy: 0.9940 - loss: 0.0245 - val_accuracy: 0.9077 - val_loss: 0.4644\n",
      "Epoch 11/30\n",
      "\u001B[1m261/261\u001B[0m \u001B[32m━━━━━━━━━━━━━━━━━━━━\u001B[0m\u001B[37m\u001B[0m \u001B[1m21s\u001B[0m 82ms/step - accuracy: 0.9924 - loss: 0.0313 - val_accuracy: 0.9020 - val_loss: 0.3594\n",
      "Epoch 12/30\n",
      "\u001B[1m261/261\u001B[0m \u001B[32m━━━━━━━━━━━━━━━━━━━━\u001B[0m\u001B[37m\u001B[0m \u001B[1m22s\u001B[0m 83ms/step - accuracy: 0.9880 - loss: 0.0380 - val_accuracy: 0.9005 - val_loss: 0.4933\n",
      "Epoch 13/30\n",
      "\u001B[1m261/261\u001B[0m \u001B[32m━━━━━━━━━━━━━━━━━━━━\u001B[0m\u001B[37m\u001B[0m \u001B[1m21s\u001B[0m 82ms/step - accuracy: 0.9979 - loss: 0.0103 - val_accuracy: 0.9231 - val_loss: 0.3738\n",
      "Epoch 14/30\n",
      "\u001B[1m261/261\u001B[0m \u001B[32m━━━━━━━━━━━━━━━━━━━━\u001B[0m\u001B[37m\u001B[0m \u001B[1m21s\u001B[0m 82ms/step - accuracy: 0.9955 - loss: 0.0160 - val_accuracy: 0.9260 - val_loss: 0.3835\n",
      "Epoch 15/30\n",
      "\u001B[1m261/261\u001B[0m \u001B[32m━━━━━━━━━━━━━━━━━━━━\u001B[0m\u001B[37m\u001B[0m \u001B[1m21s\u001B[0m 82ms/step - accuracy: 0.9986 - loss: 0.0079 - val_accuracy: 0.9274 - val_loss: 0.4017\n",
      "Epoch 16/30\n",
      "\u001B[1m261/261\u001B[0m \u001B[32m━━━━━━━━━━━━━━━━━━━━\u001B[0m\u001B[37m\u001B[0m \u001B[1m21s\u001B[0m 82ms/step - accuracy: 0.9986 - loss: 0.0037 - val_accuracy: 0.8640 - val_loss: 0.5546\n",
      "Epoch 17/30\n",
      "\u001B[1m261/261\u001B[0m \u001B[32m━━━━━━━━━━━━━━━━━━━━\u001B[0m\u001B[37m\u001B[0m \u001B[1m21s\u001B[0m 82ms/step - accuracy: 0.9917 - loss: 0.0297 - val_accuracy: 0.8736 - val_loss: 0.7909\n",
      "Epoch 18/30\n",
      "\u001B[1m261/261\u001B[0m \u001B[32m━━━━━━━━━━━━━━━━━━━━\u001B[0m\u001B[37m\u001B[0m \u001B[1m21s\u001B[0m 82ms/step - accuracy: 0.9929 - loss: 0.0233 - val_accuracy: 0.8972 - val_loss: 0.6232\n",
      "Epoch 19/30\n",
      "\u001B[1m261/261\u001B[0m \u001B[32m━━━━━━━━━━━━━━━━━━━━\u001B[0m\u001B[37m\u001B[0m \u001B[1m21s\u001B[0m 82ms/step - accuracy: 0.9898 - loss: 0.0359 - val_accuracy: 0.9068 - val_loss: 0.5586\n",
      "Epoch 20/30\n",
      "\u001B[1m261/261\u001B[0m \u001B[32m━━━━━━━━━━━━━━━━━━━━\u001B[0m\u001B[37m\u001B[0m \u001B[1m21s\u001B[0m 82ms/step - accuracy: 0.9914 - loss: 0.0302 - val_accuracy: 0.9231 - val_loss: 0.3753\n",
      "Epoch 21/30\n",
      "\u001B[1m261/261\u001B[0m \u001B[32m━━━━━━━━━━━━━━━━━━━━\u001B[0m\u001B[37m\u001B[0m \u001B[1m21s\u001B[0m 82ms/step - accuracy: 0.9882 - loss: 0.0460 - val_accuracy: 0.9202 - val_loss: 0.4468\n",
      "Epoch 22/30\n",
      "\u001B[1m261/261\u001B[0m \u001B[32m━━━━━━━━━━━━━━━━━━━━\u001B[0m\u001B[37m\u001B[0m \u001B[1m21s\u001B[0m 82ms/step - accuracy: 0.9969 - loss: 0.0104 - val_accuracy: 0.9207 - val_loss: 0.4697\n",
      "Epoch 23/30\n",
      "\u001B[1m261/261\u001B[0m \u001B[32m━━━━━━━━━━━━━━━━━━━━\u001B[0m\u001B[37m\u001B[0m \u001B[1m21s\u001B[0m 82ms/step - accuracy: 0.9987 - loss: 0.0045 - val_accuracy: 0.9303 - val_loss: 0.3897\n",
      "Epoch 24/30\n",
      "\u001B[1m261/261\u001B[0m \u001B[32m━━━━━━━━━━━━━━━━━━━━\u001B[0m\u001B[37m\u001B[0m \u001B[1m22s\u001B[0m 82ms/step - accuracy: 0.9991 - loss: 0.0023 - val_accuracy: 0.9207 - val_loss: 0.4236\n",
      "Epoch 25/30\n",
      "\u001B[1m261/261\u001B[0m \u001B[32m━━━━━━━━━━━━━━━━━━━━\u001B[0m\u001B[37m\u001B[0m \u001B[1m22s\u001B[0m 82ms/step - accuracy: 0.9982 - loss: 0.0059 - val_accuracy: 0.8924 - val_loss: 0.5889\n",
      "Epoch 26/30\n",
      "\u001B[1m261/261\u001B[0m \u001B[32m━━━━━━━━━━━━━━━━━━━━\u001B[0m\u001B[37m\u001B[0m \u001B[1m22s\u001B[0m 83ms/step - accuracy: 0.9905 - loss: 0.0309 - val_accuracy: 0.9077 - val_loss: 0.5371\n",
      "Epoch 27/30\n",
      "\u001B[1m261/261\u001B[0m \u001B[32m━━━━━━━━━━━━━━━━━━━━\u001B[0m\u001B[37m\u001B[0m \u001B[1m22s\u001B[0m 83ms/step - accuracy: 0.9925 - loss: 0.0260 - val_accuracy: 0.9198 - val_loss: 0.4174\n",
      "Epoch 28/30\n",
      "\u001B[1m261/261\u001B[0m \u001B[32m━━━━━━━━━━━━━━━━━━━━\u001B[0m\u001B[37m\u001B[0m \u001B[1m22s\u001B[0m 83ms/step - accuracy: 0.9982 - loss: 0.0054 - val_accuracy: 0.9346 - val_loss: 0.4581\n",
      "Epoch 29/30\n",
      "\u001B[1m261/261\u001B[0m \u001B[32m━━━━━━━━━━━━━━━━━━━━\u001B[0m\u001B[37m\u001B[0m \u001B[1m22s\u001B[0m 83ms/step - accuracy: 0.9986 - loss: 0.0033 - val_accuracy: 0.9265 - val_loss: 0.4596\n",
      "Epoch 30/30\n",
      "\u001B[1m261/261\u001B[0m \u001B[32m━━━━━━━━━━━━━━━━━━━━\u001B[0m\u001B[37m\u001B[0m \u001B[1m22s\u001B[0m 82ms/step - accuracy: 0.9950 - loss: 0.0145 - val_accuracy: 0.9092 - val_loss: 0.5299\n",
      "\u001B[1m66/66\u001B[0m \u001B[32m━━━━━━━━━━━━━━━━━━━━\u001B[0m\u001B[37m\u001B[0m \u001B[1m1s\u001B[0m 17ms/step - accuracy: 0.9089 - loss: 0.5275\n",
      "✅ Fold 5 validation accuracy: 0.9092\n"
     ]
    }
   ],
   "execution_count": 27
  },
  {
   "metadata": {
    "ExecuteTime": {
     "end_time": "2025-04-29T23:00:58.521634Z",
     "start_time": "2025-04-29T23:00:58.515917Z"
    }
   },
   "cell_type": "code",
   "source": [
    "# # Build CNN Model\n",
    "# model = models.Sequential([\n",
    "#     layers.Conv2D(32, (3,3), activation='relu', input_shape=(IMG_SIZE, IMG_SIZE, 3)),\n",
    "#     layers.MaxPooling2D(2,2),\n",
    "#\n",
    "#     layers.Conv2D(64, (3,3), activation='relu'),\n",
    "#     layers.MaxPooling2D(2,2),\n",
    "#\n",
    "#     layers.Flatten(),\n",
    "#     layers.Dense(128, activation='relu'),\n",
    "#     layers.Dense(len(variety_map), activation='softmax')\n",
    "# ])\n",
    "#\n",
    "# model.compile(optimizer='adam',\n",
    "#               loss='sparse_categorical_crossentropy',\n",
    "#               metrics=['accuracy'])\n",
    "#\n",
    "# model.summary()\n"
   ],
   "id": "8647993d7f6da871",
   "outputs": [],
   "execution_count": 28
  },
  {
   "metadata": {
    "ExecuteTime": {
     "end_time": "2025-04-29T23:00:58.940651Z",
     "start_time": "2025-04-29T23:00:58.938543Z"
    }
   },
   "cell_type": "code",
   "source": [
    "# # Train Model\n",
    "# history = model.fit(\n",
    "#     x_train, y_train,\n",
    "#     validation_data=(x_val, y_val),\n",
    "#     epochs=30,\n",
    "#     batch_size=32\n",
    "# )\n"
   ],
   "id": "be8fb00758f74219",
   "outputs": [],
   "execution_count": 29
  },
  {
   "metadata": {
    "ExecuteTime": {
     "end_time": "2025-04-29T23:00:59.314479Z",
     "start_time": "2025-04-29T23:00:59.069886Z"
    }
   },
   "cell_type": "code",
   "source": [
    "# val_loss, val_acc = model.evaluate(x_val, y_val)\n",
    "# print(f\"Validation accuracy: {val_acc:.4f}\")\n",
    "print(\"\\n📈 Cross-Validation Results:\")\n",
    "print(f\"Average Accuracy: {np.mean(accuracies):.4f}\")\n",
    "print(f\"Standard Deviation: {np.std(accuracies):.4f}\")\n",
    "\n",
    "plt.plot(history.history['accuracy'], label='Train Acc')\n",
    "plt.plot(history.history['val_accuracy'], label='Val Acc')\n",
    "plt.xlabel('Epoch')\n",
    "plt.ylabel('Accuracy')\n",
    "plt.title('Training History')\n",
    "plt.legend()\n",
    "plt.grid(True)\n",
    "plt.show()\n"
   ],
   "id": "421b85b36e1dba5",
   "outputs": [
    {
     "name": "stdout",
     "output_type": "stream",
     "text": [
      "\n",
      "📈 Cross-Validation Results:\n",
      "Average Accuracy: 0.9076\n",
      "Standard Deviation: 0.0100\n"
     ]
    },
    {
     "data": {
      "text/plain": [
       "<Figure size 640x480 with 1 Axes>"
      ],
      "image/png": "[encoded data removed]"
     },
     "metadata": {},
     "output_type": "display_data"
    }
   ],
   "execution_count": 30
  },
  {
   "metadata": {
    "ExecuteTime": {
     "end_time": "2025-04-29T23:01:00.669078Z",
     "start_time": "2025-04-29T23:00:59.330837Z"
    }
   },
   "cell_type": "code",
   "source": [
    "from sklearn.metrics import confusion_matrix, ConfusionMatrixDisplay\n",
    "\n",
    "# Predict classes for validation set\n",
    "y_pred = model.predict(x_val)\n",
    "y_pred_classes = np.argmax(y_pred, axis=1)\n",
    "\n",
    "# Plot confusion matrix\n",
    "cm = confusion_matrix(y_val, y_pred_classes)\n",
    "disp = ConfusionMatrixDisplay(confusion_matrix=cm, display_labels=label_encoder.classes_)\n",
    "disp.plot(xticks_rotation=45)\n"
   ],
   "id": "2bb50d0697bed83b",
   "outputs": [
    {
     "name": "stdout",
     "output_type": "stream",
     "text": [
      "\u001B[1m66/66\u001B[0m \u001B[32m━━━━━━━━━━━━━━━━━━━━\u001B[0m\u001B[37m\u001B[0m \u001B[1m1s\u001B[0m 14ms/step\n"
     ]
    },
    {
     "data": {
      "text/plain": [
       "<sklearn.metrics._plot.confusion_matrix.ConfusionMatrixDisplay at 0x228dac10fb0>"
      ]
     },
     "execution_count": 31,
     "metadata": {},
     "output_type": "execute_result"
    },
    {
     "data": {
      "text/plain": [
       "<Figure size 640x480 with 2 Axes>"
      ],
      "image/png": "[encoded data removed]"
     },
     "metadata": {},
     "output_type": "display_data"
    }
   ],
   "execution_count": 31
  },
  {
   "metadata": {
    "ExecuteTime": {
     "end_time": "2025-04-29T23:01:00.706393Z",
     "start_time": "2025-04-29T23:01:00.687555Z"
    }
   },
   "cell_type": "code",
   "source": [
    "from sklearn.metrics import classification_report\n",
    "\n",
    "print(classification_report(y_val, y_pred_classes, target_names=label_encoder.classes_))\n"
   ],
   "id": "d8a634f4aa3b7be4",
   "outputs": [
    {
     "name": "stdout",
     "output_type": "stream",
     "text": [
      "                precision    recall  f1-score   support\n",
      "\n",
      "         ADT45       0.91      0.97      0.94      1398\n",
      "    AndraPonni       0.89      0.89      0.89        76\n",
      "  AtchayaPonni       0.97      0.72      0.82        92\n",
      "          IR20       0.90      0.83      0.86        23\n",
      "KarnatakaPonni       0.84      0.89      0.87       197\n",
      "      Onthanel       0.92      0.65      0.76        71\n",
      "         Ponni       0.90      0.68      0.77       131\n",
      "            RR       1.00      0.14      0.25         7\n",
      "         Surya       0.00      0.00      0.00         6\n",
      "         Zonal       0.98      0.81      0.89        80\n",
      "\n",
      "      accuracy                           0.91      2081\n",
      "     macro avg       0.83      0.66      0.71      2081\n",
      "  weighted avg       0.91      0.91      0.90      2081\n",
      "\n"
     ]
    },
    {
     "name": "stderr",
     "output_type": "stream",
     "text": [
      "C:\\Users\\bazen\\PyCharmMiscProject\\.venv\\Lib\\site-packages\\sklearn\\metrics\\_classification.py:1565: UndefinedMetricWarning: Precision is ill-defined and being set to 0.0 in labels with no predicted samples. Use `zero_division` parameter to control this behavior.\n",
      "  _warn_prf(average, modifier, f\"{metric.capitalize()} is\", len(result))\n",
      "C:\\Users\\bazen\\PyCharmMiscProject\\.venv\\Lib\\site-packages\\sklearn\\metrics\\_classification.py:1565: UndefinedMetricWarning: Precision is ill-defined and being set to 0.0 in labels with no predicted samples. Use `zero_division` parameter to control this behavior.\n",
      "  _warn_prf(average, modifier, f\"{metric.capitalize()} is\", len(result))\n",
      "C:\\Users\\bazen\\PyCharmMiscProject\\.venv\\Lib\\site-packages\\sklearn\\metrics\\_classification.py:1565: UndefinedMetricWarning: Precision is ill-defined and being set to 0.0 in labels with no predicted samples. Use `zero_division` parameter to control this behavior.\n",
      "  _warn_prf(average, modifier, f\"{metric.capitalize()} is\", len(result))\n"
     ]
    }
   ],
   "execution_count": 32
  }
 ],
 "metadata": {
  "kernelspec": {
   "display_name": "Python 3",
   "language": "python",
   "name": "python3"
  },
  "language_info": {
   "codemirror_mode": {
    "name": "ipython",
    "version": 2
   },
   "file_extension": ".py",
   "mimetype": "text/x-python",
   "name": "python",
   "nbconvert_exporter": "python",
   "pygments_lexer": "ipython2",
   "version": "2.7.6"
  }
 },
 "nbformat": 4,
 "nbformat_minor": 5
}
